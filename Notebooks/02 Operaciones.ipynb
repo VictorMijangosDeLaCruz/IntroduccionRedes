{
 "cells": [
  {
   "cell_type": "markdown",
   "id": "c4a0874f",
   "metadata": {},
   "source": [
    "# Operaciones con tensores\n",
    "\n",
    "Los tensores pueden operarse de distintas formas para producir nuevos tensores. Como otras estructuras matemáticas, los tensores permiten operaciones básicas como la suma o el producto. Otras operaciones importantes se pueden hacer con los tensores. Revisamos estas operaciones:\n",
    "\n",
    "### Transposición\n",
    "\n",
    "La transposición es una operación que se presenta en tensores de rango mayor o igual a 2. Si bien podemos pensar que un vector (tensor de rango 1) puede transponerse al considerarlo como una columna (vector en vertical) en lugar de un renglón (vector en horizontal). En el caso de las paqueterías con las que operamos la transposición de un vector no surge ningún efecto, sigue siendo un arreglo de números."
   ]
  },
  {
   "cell_type": "code",
   "execution_count": 12,
   "id": "3d5bb2dc",
   "metadata": {},
   "outputs": [
    {
     "name": "stdout",
     "output_type": "stream",
     "text": [
      "Vector tensor([1, 2, 3])\n",
      "Vector transpuesto: tensor([1, 2, 3])\n"
     ]
    }
   ],
   "source": [
    "import torch\n",
    "\n",
    "#Vector (tensro rango 1)\n",
    "x = torch.tensor([1,2,3])\n",
    "\n",
    "print('Vector {}\\nVector transpuesto: {}'.format(x, x.T))"
   ]
  },
  {
   "cell_type": "markdown",
   "id": "e20582f9",
   "metadata": {},
   "source": [
    "En los tensores de mayor rango, la transposición es una permutación que invierte el valor de los índices de un tensor. Es decir, si el tensor $T$ tiene los índices $i_1, i_2,...,i_n$, el vector transpuesto $T^T$ tendrá los índices $i_n, i_{n-1}, ..., i_2, i_1$. \n",
    "\n",
    "En el caso de las <b>matrices</b>, la tranposición invierte los índices $i,j$ a $j,i$. Así, la transposición de la matriz $A$ tiene como entradas $(A^T)_{i,j} = A_{j,i}$. Es decir,m la transposición de las matrices cambia las columnas por renglones."
   ]
  },
  {
   "cell_type": "code",
   "execution_count": 2,
   "id": "04332ccc",
   "metadata": {},
   "outputs": [
    {
     "name": "stdout",
     "output_type": "stream",
     "text": [
      "tensor([[0, 3, 0, 5],\n",
      "        [5, 0, 2, 3],\n",
      "        [1, 2, 0, 1]])\n"
     ]
    }
   ],
   "source": [
    "#Tensor de rango 2 (matriz)\n",
    "A = torch.tensor([[0, 5, 1],\n",
    "                  [3, 0, 2],\n",
    "                  [0, 2, 0],\n",
    "                  [5, 3, 1]])\n",
    "\n",
    "print(A.T)"
   ]
  },
  {
   "cell_type": "markdown",
   "id": "4e98c8d1",
   "metadata": {},
   "source": [
    "En tensores de rango 3, los tres índices $i,j,k$ se invierten como $k,j,i$; pot ejemplo, un tensor de tamaño $(2,4,3)$ tendrá una transpuesta de tamaño $(3,4,2)$. De tal forma, que  las entradas del tensor transpuesto de grado 3 estarán dadas como: $$(T^T)_{i,j,k} = T_{k,j,i}$$"
   ]
  },
  {
   "cell_type": "code",
   "execution_count": 3,
   "id": "39f84b7c",
   "metadata": {},
   "outputs": [
    {
     "name": "stdout",
     "output_type": "stream",
     "text": [
      "Tensor transpuesto\n",
      "tensor([[[ 1.0000,  7.0000],\n",
      "         [ 4.0000, 10.0000],\n",
      "         [ 1.0000, 20.0000],\n",
      "         [ 1.0000,  0.0000]],\n",
      "\n",
      "        [[ 2.0000,  8.0000],\n",
      "         [ 5.0000, 11.0000],\n",
      "         [ 2.0000,  1.0000],\n",
      "         [ 0.5000,  0.0000]],\n",
      "\n",
      "        [[ 3.0000,  9.0000],\n",
      "         [ 6.0000, 12.0000],\n",
      "         [ 3.0000,  0.0000],\n",
      "         [ 2.0000,  1.0000]]])\n",
      "Tamaño original: torch.Size([2, 4, 3])\n",
      "Tamaño de tranpuesta: torch.Size([3, 4, 2])\n"
     ]
    }
   ],
   "source": [
    "#Tensor de rango 3\n",
    "T = torch.tensor([[[1,2,3],[4,5,6],[1,2,3],[1,0.5,2]], \n",
    "                  [[7,8,9],[10,11,12],[20,1,0],[0,0,1]]])\n",
    "\n",
    "print('Tensor transpuesto\\n{}'.format(T.T))\n",
    "print('Tamaño original: {}\\nTamaño de tranpuesta: {}'.format(T.size(), T.T.size()))"
   ]
  },
  {
   "cell_type": "markdown",
   "id": "2e62c3f2",
   "metadata": {},
   "source": [
    "En tensores de mayor rango, la transposición invierte los índices de tal forma que:\n",
    "\n",
    "$$(T^T)_{i_1,i_2,...,i_{n-1},i_n} = T_{i_n, i_{n-1},...,i_2, i_1}$$\n",
    "\n",
    "Podemos generar un tensro de manera aleatoria (usamos la función <tt>torch.rand()</tt>) y ver cómo se comportan sus índices:"
   ]
  },
  {
   "cell_type": "code",
   "execution_count": 4,
   "id": "5ac60b3e",
   "metadata": {},
   "outputs": [
    {
     "name": "stdout",
     "output_type": "stream",
     "text": [
      "Tamaño original: torch.Size([2, 3, 4, 5, 6, 7, 8])\n",
      "Tamaño transpuesto: torch.Size([8, 7, 6, 5, 4, 3, 2])\n"
     ]
    }
   ],
   "source": [
    "#Tensor de mayor tango\n",
    "Trank = torch.rand(2,3,4,5,6,7,8)\n",
    "\n",
    "print('Tamaño original: {}\\nTamaño transpuesto: {}'.format(Trank.size(), Trank.T.size()))"
   ]
  },
  {
   "cell_type": "markdown",
   "id": "6ebb318b",
   "metadata": {},
   "source": [
    "### Permutaciones\n",
    "\n",
    "La transposición de tensores de grado mayor a 2 implica la permutación de sus dimensiones:\n",
    "\n",
    "$$(T_{i_1,i_2,...,i_k})^T = T_{\\sigma(i_1),\\sigma(i_2),...,\\sigma(i_k)}$$\n",
    "Aquí $\\sigma$ es una operación de permutación. Esto permite cambiar no sólo las dimensiones finales si no cualquier dimensión entre sí. Para intercambiar las dimensiones de un tensor en PyTorch utilizamos la función <tt>transpose</tt>. Esta función como entrada toma las dos dimensiones que se van a intercambiar y regresa el tensor con estas dimensiones permutadas."
   ]
  },
  {
   "cell_type": "code",
   "execution_count": 11,
   "id": "e1e0e47f",
   "metadata": {},
   "outputs": [
    {
     "name": "stdout",
     "output_type": "stream",
     "text": [
      "torch.Size([2, 4, 3])\n",
      "torch.Size([4, 2, 3])\n",
      "torch.Size([2, 3, 4])\n"
     ]
    }
   ],
   "source": [
    "print(T.size())\n",
    "print(T.transpose(0,1).size())\n",
    "print(T.transpose(1,2).size())"
   ]
  },
  {
   "cell_type": "markdown",
   "id": "033a2f00",
   "metadata": {},
   "source": [
    "### Suma de tensores\n",
    "\n",
    "La suma de tensores es una operación sencilla que únicamente consiste en sumar cada una de las entradas de ambos tensores. Por tanto, la suma sólo puede hacerse entre tensores del mismo rango, y de las mismas dimensiones. La suma se da como:\n",
    "\n",
    "$$(A + B)_{i_1,...,i_n} = A_{i_1,...,i_n} + B_{i_1,...,i_n}$$"
   ]
  },
  {
   "cell_type": "code",
   "execution_count": 5,
   "id": "4052c712",
   "metadata": {},
   "outputs": [
    {
     "name": "stdout",
     "output_type": "stream",
     "text": [
      "Suma de vectores\n",
      "tensor([1, 2, 1])\n",
      " + \n",
      "tensor([1, 2, 2])\n",
      " = \n",
      "tensor([2, 4, 3])\n",
      "\n",
      "Suma de matrices\n",
      "tensor([[0, 5, 1],\n",
      "        [3, 0, 2],\n",
      "        [0, 2, 0],\n",
      "        [5, 3, 1]])\n",
      " + \n",
      "tensor([[10,  0,  2],\n",
      "        [ 9,  4,  1],\n",
      "        [ 8,  1,  0],\n",
      "        [ 1,  0,  0]])\n",
      " = \n",
      "tensor([[10,  5,  3],\n",
      "        [12,  4,  3],\n",
      "        [ 8,  3,  0],\n",
      "        [ 6,  3,  1]])\n",
      "\n",
      "Suma de tensores de rango 3\n",
      "tensor([[[0.0457, 0.2114, 0.0302, 0.7899],\n",
      "         [0.2373, 0.6150, 0.4963, 0.7592],\n",
      "         [0.3869, 0.4044, 0.9591, 0.9765]],\n",
      "\n",
      "        [[0.8283, 0.8249, 0.8225, 0.9028],\n",
      "         [0.1364, 0.3119, 0.3625, 0.5394],\n",
      "         [0.7531, 0.7994, 0.3870, 0.2886]]])\n",
      " + \n",
      "tensor([[[0.3994, 0.8063, 0.6203, 0.4983],\n",
      "         [0.5272, 0.9225, 0.8291, 0.1869],\n",
      "         [0.4953, 0.9512, 0.0043, 0.5977]],\n",
      "\n",
      "        [[0.4484, 0.6104, 0.0101, 0.8741],\n",
      "         [0.9223, 0.8217, 0.9480, 0.2113],\n",
      "         [0.8798, 0.6029, 0.6214, 0.3527]]])\n",
      " = \n",
      "tensor([[[0.4450, 1.0178, 0.6506, 1.2882],\n",
      "         [0.7645, 1.5375, 1.3254, 0.9462],\n",
      "         [0.8822, 1.3555, 0.9634, 1.5743]],\n",
      "\n",
      "        [[1.2767, 1.4354, 0.8327, 1.7769],\n",
      "         [1.0587, 1.1336, 1.3106, 0.7507],\n",
      "         [1.6329, 1.4023, 1.0084, 0.6413]]])\n"
     ]
    }
   ],
   "source": [
    "x = torch.tensor([1,2,1])\n",
    "y = torch.tensor([1,2,2])\n",
    "print('Suma de vectores')\n",
    "print('{}\\n + \\n{}\\n = \\n{}'.format(x,y,x+y))\n",
    "\n",
    "\n",
    "A = torch.tensor([[0, 5, 1],\n",
    "                  [3, 0, 2],\n",
    "                  [0, 2, 0],\n",
    "                  [5, 3, 1]])\n",
    "B = torch.tensor([[10, 0, 2],\n",
    "                  [9, 4, 1],\n",
    "                  [8, 1, 0],\n",
    "                  [1, 0, 0]])\n",
    "print('\\nSuma de matrices')\n",
    "print('{}\\n + \\n{}\\n = \\n{}'.format(A,B,A+B))\n",
    "\n",
    "T1 = torch.rand(2,3,4)\n",
    "T2 = torch.rand(2,3,4)\n",
    "print('\\nSuma de tensores de rango 3')\n",
    "print('{}\\n + \\n{}\\n = \\n{}'.format(T1,T2,T1+T2))"
   ]
  },
  {
   "cell_type": "markdown",
   "id": "aa38f746",
   "metadata": {},
   "source": [
    "### Producto por escalares\n",
    "\n",
    "El producto por un escalar toma un número real $\\lambda$ y multiplica cada entrada por este elemento. Por lo que las entradas de un tensor multiplicado por un escalar es de la forma $(\\lambda T)_{i_1,...,i_n} = \\lambda T_{i_1,...,i_n}$. En este sentido, lo que hace el producto por el escalar es precisamente \"escalar\" el tensor. En PyTorch, tanto como en Tensorflow y Numpy este producto se hace como:\n",
    "\n",
    "```python\n",
    "  scalar = a*T\n",
    "```\n",
    "\n",
    "Donde $a$ es un valor numérico, entero o flotante."
   ]
  },
  {
   "cell_type": "code",
   "execution_count": 6,
   "id": "2e3e925e",
   "metadata": {},
   "outputs": [
    {
     "name": "stdout",
     "output_type": "stream",
     "text": [
      "2.5 • tensor([1, 2, 1])\n",
      " = \n",
      "tensor([2.5000, 5.0000, 2.5000])\n",
      "\n",
      "2.5 • tensor([[0, 5, 1],\n",
      "        [3, 0, 2],\n",
      "        [0, 2, 0],\n",
      "        [5, 3, 1]])\n",
      " = \n",
      "tensor([[ 0.0000, 12.5000,  2.5000],\n",
      "        [ 7.5000,  0.0000,  5.0000],\n",
      "        [ 0.0000,  5.0000,  0.0000],\n",
      "        [12.5000,  7.5000,  2.5000]])\n"
     ]
    }
   ],
   "source": [
    "#Escalar\n",
    "a = 2.5\n",
    "\n",
    "#Productos de tensores\n",
    "print('{} • {}\\n = \\n{}\\n'.format(a,x, a*x))\n",
    "print('{} • {}\\n = \\n{}'.format(a,A, a*A))"
   ]
  },
  {
   "cell_type": "markdown",
   "id": "b79de374",
   "metadata": {},
   "source": [
    "### Producto punto entre vectores\n",
    "\n",
    "El producto punto entre dos vectores $x, y$ de la misma dimensión se calcula como:\n",
    "\n",
    "$$x^T y = \\sum_{i=1}^d x_i y_i$$\n",
    "\n",
    "Este producto punto se realiza de diferentes formas según el lenguaje de programación que estemos usando:\n",
    "\n",
    "* Numpy\n",
    "```python\n",
    "  dot = np.dot(x,y)\n",
    "```\n",
    "* Tensorflow\n",
    "```python\n",
    "  dot = tf.tensordot(x,y)\n",
    "```\n",
    "* PyTorch\n",
    "```python\n",
    "  scalar = torch.matmul(x,y)\n",
    "```"
   ]
  },
  {
   "cell_type": "code",
   "execution_count": 7,
   "id": "4ec26fdd",
   "metadata": {},
   "outputs": [
    {
     "name": "stdout",
     "output_type": "stream",
     "text": [
      "tensor([1, 2, 1]) • tensor([1, 2, 2])\n",
      " = \n",
      "7\n"
     ]
    }
   ],
   "source": [
    "#Producto punto\n",
    "dot = torch.matmul(x,y)\n",
    "\n",
    "print('{} • {}\\n = \\n{}'.format(x,y, dot))"
   ]
  },
  {
   "cell_type": "markdown",
   "id": "b572205e",
   "metadata": {},
   "source": [
    "### Productos con matrices\n",
    "\n",
    "Los tensores de rango 2 pueden multiplicar a otros tensores de diferente rango. Por ejemplo, se puede realizar el producto entre una matriz $A$ y un vector $x$ donde la dimensiones de las columnas de $A$ deben coincidir con la dimensión de $x$. El resultado de producto es un vector que está determinado como:\n",
    "\n",
    "$$(Ax)_i = \\sum_j A_{i,j} x_j$$\n",
    "\n",
    "En este caso, se utilizan las mismas funciones que en el producto punto. En este caso, tenemos la función <tt>torch.matmul()</tt>."
   ]
  },
  {
   "cell_type": "code",
   "execution_count": 8,
   "id": "4036d85c",
   "metadata": {},
   "outputs": [
    {
     "name": "stdout",
     "output_type": "stream",
     "text": [
      "tensor([[0, 5, 1],\n",
      "        [3, 0, 2],\n",
      "        [0, 2, 0],\n",
      "        [5, 3, 1]]) • tensor([1, 2, 1])\n",
      " = \n",
      "tensor([11,  5,  4, 12])\n"
     ]
    }
   ],
   "source": [
    "#Producto matriz con vector\n",
    "product = torch.matmul(A,x)\n",
    "\n",
    "print('{} • {}\\n = \\n{}'.format(A,x, product))"
   ]
  },
  {
   "cell_type": "markdown",
   "id": "516d9465",
   "metadata": {},
   "source": [
    "Asimismo, se puede realizar el producto entre dos matrices que compartan una dimensión. Es decir, la primera matriz tendrá tantas columnas como renglones la segunda. El producto entre matrices está dado como:\n",
    "\n",
    "$$(AB)_{i,j} = \\sum_k A_{i,k} B_{k,j}$$"
   ]
  },
  {
   "cell_type": "code",
   "execution_count": 9,
   "id": "c859655b",
   "metadata": {},
   "outputs": [
    {
     "name": "stdout",
     "output_type": "stream",
     "text": [
      "tensor([[0, 5, 1],\n",
      "        [3, 0, 2],\n",
      "        [0, 2, 0],\n",
      "        [5, 3, 1]])\n",
      "  •  \n",
      "tensor([[10,  9,  8,  1],\n",
      "        [ 0,  4,  1,  0],\n",
      "        [ 2,  1,  0,  0]])\n",
      " = \n",
      "tensor([[ 2, 21,  5,  0],\n",
      "        [34, 29, 24,  3],\n",
      "        [ 0,  8,  2,  0],\n",
      "        [52, 58, 43,  5]])\n"
     ]
    }
   ],
   "source": [
    "#Producto matriz con vector\n",
    "rank2_product = torch.matmul(A,B.T)\n",
    "\n",
    "print('{}\\n  •  \\n{}\\n = \\n{}'.format(A,B.T, rank2_product))"
   ]
  },
  {
   "cell_type": "markdown",
   "id": "d4c126db",
   "metadata": {},
   "source": [
    "### Producto entre tensores de mayor rango\n",
    "\n",
    "Los tensores de rango 3 o mayores pueden multiplicarse con otros tensores de menor o igual rango. Por ejemplo, podemos multiplicar un vector de rango 3 por un vector como:\n",
    "\n",
    "$$(Tx)_{i,j} = \\sum_{k} T_{i,j,k} x_k$$\n",
    "\n",
    "Por su parte, también podemos multiplicar el tensor por una matriz, de la siguiente forma:\n",
    "\n",
    "$$(TA)_{i,j,k} = \\sum_{l} T_{i,j,l} A_{l,k}$$"
   ]
  },
  {
   "cell_type": "code",
   "execution_count": 10,
   "id": "2cf56d00",
   "metadata": {},
   "outputs": [
    {
     "name": "stdout",
     "output_type": "stream",
     "text": [
      "Tensor de rango 3 por vector\n",
      "tensor([[[0.8923, 0.0408, 0.9621],\n",
      "         [0.9718, 0.5970, 0.0816],\n",
      "         [0.1249, 0.3443, 0.0333]],\n",
      "\n",
      "        [[0.6729, 0.8477, 0.6490],\n",
      "         [0.5623, 0.0241, 0.5339],\n",
      "         [0.0615, 0.1971, 0.2775]],\n",
      "\n",
      "        [[0.3309, 0.1102, 0.6387],\n",
      "         [0.8850, 0.8717, 0.8342],\n",
      "         [0.7162, 0.9685, 0.1346]]])\n",
      "  •  \n",
      "tensor([0.7574, 0.6017, 0.1718])\n",
      " = \n",
      "tensor([[0.8657, 1.1093, 0.3075],\n",
      "        [1.1312, 0.5321, 0.2128],\n",
      "        [0.4267, 1.3382, 1.1484]])\n",
      "\n",
      "\n",
      "Tensor de rango 3 por matriz\n",
      "tensor([[[0.8923, 0.0408, 0.9621],\n",
      "         [0.9718, 0.5970, 0.0816],\n",
      "         [0.1249, 0.3443, 0.0333]],\n",
      "\n",
      "        [[0.6729, 0.8477, 0.6490],\n",
      "         [0.5623, 0.0241, 0.5339],\n",
      "         [0.0615, 0.1971, 0.2775]],\n",
      "\n",
      "        [[0.3309, 0.1102, 0.6387],\n",
      "         [0.8850, 0.8717, 0.8342],\n",
      "         [0.7162, 0.9685, 0.1346]]])\n",
      "  •  \n",
      "tensor([[0.8014, 0.3434],\n",
      "        [0.0322, 0.7288],\n",
      "        [0.9656, 0.0135]])\n",
      " = \n",
      "tensor([[[1.6455, 0.3492],\n",
      "         [0.8769, 0.7700],\n",
      "         [0.1434, 0.2943]],\n",
      "\n",
      "        [[1.1933, 0.8576],\n",
      "         [0.9670, 0.2179],\n",
      "         [0.3235, 0.1685]],\n",
      "\n",
      "        [[0.8856, 0.2026],\n",
      "         [1.5429, 0.9505],\n",
      "         [0.7352, 0.9537]]])\n"
     ]
    }
   ],
   "source": [
    "#Crea tensores\n",
    "T = torch.rand(3,3,3)\n",
    "A = torch.rand(3,2)\n",
    "x = torch.rand(3,)\n",
    "\n",
    "#Producto por vector\n",
    "vector_product = torch.matmul(T,x)\n",
    "#Producto por matriz\n",
    "matrix_product = torch.matmul(T,A)\n",
    "\n",
    "print('Tensor de rango 3 por vector')\n",
    "print('{}\\n  •  \\n{}\\n = \\n{}'.format(T,x, vector_product))\n",
    "print('\\n\\nTensor de rango 3 por matriz')\n",
    "print('{}\\n  •  \\n{}\\n = \\n{}'.format(T,A, matrix_product))"
   ]
  },
  {
   "cell_type": "markdown",
   "id": "6299a47e",
   "metadata": {},
   "source": [
    "Finalmente, podemos realizar el producto entre tensores de mayor rango. Por ejemplo, entre tensores de rango 3. En todos estos casos, como vemos, se utiliza la función <tt>torch.matmul()</tt>."
   ]
  },
  {
   "cell_type": "code",
   "execution_count": 11,
   "id": "2c07e1d5",
   "metadata": {},
   "outputs": [
    {
     "name": "stdout",
     "output_type": "stream",
     "text": [
      "tensor([[[0.8923, 0.0408, 0.9621],\n",
      "         [0.9718, 0.5970, 0.0816],\n",
      "         [0.1249, 0.3443, 0.0333]],\n",
      "\n",
      "        [[0.6729, 0.8477, 0.6490],\n",
      "         [0.5623, 0.0241, 0.5339],\n",
      "         [0.0615, 0.1971, 0.2775]],\n",
      "\n",
      "        [[0.3309, 0.1102, 0.6387],\n",
      "         [0.8850, 0.8717, 0.8342],\n",
      "         [0.7162, 0.9685, 0.1346]]])\n",
      "  •  \n",
      "tensor([[[0.9370, 0.8247, 0.2572],\n",
      "         [0.6798, 0.5555, 0.4123],\n",
      "         [0.8644, 0.3421, 0.8773]],\n",
      "\n",
      "        [[0.4420, 0.4221, 0.0691],\n",
      "         [0.1596, 0.2319, 0.4798],\n",
      "         [0.1060, 0.8297, 0.2443]],\n",
      "\n",
      "        [[0.9635, 0.7712, 0.1022],\n",
      "         [0.4589, 0.1896, 0.2119],\n",
      "         [0.0781, 0.7673, 0.6103]]])\n",
      " = \n",
      "tensor([[[1.6956, 1.0878, 1.0905],\n",
      "         [1.3870, 1.1611, 0.5678],\n",
      "         [0.3799, 0.3057, 0.2033]],\n",
      "\n",
      "        [[0.5015, 1.0190, 0.6118],\n",
      "         [0.3090, 0.6859, 0.1809],\n",
      "         [0.0880, 0.3018, 0.1666]],\n",
      "\n",
      "        [[0.4194, 0.7662, 0.4470],\n",
      "         [1.3180, 1.4879, 0.7843],\n",
      "         [1.1451, 0.8393, 0.3606]]])\n"
     ]
    }
   ],
   "source": [
    "#Crea un tensor de rango 3\n",
    "T2 = torch.rand(3,3,3)\n",
    "#Producto entre tensores\n",
    "rank3_product = torch.matmul(T,T2)\n",
    "\n",
    "print('{}\\n  •  \\n{}\\n = \\n{}'.format(T,T2, rank3_product))"
   ]
  },
  {
   "cell_type": "markdown",
   "id": "525c8192",
   "metadata": {},
   "source": [
    "### Producto de Hadamard\n",
    "\n",
    "El producto de Hadamard es un producto punto a punto, en donde cada entrada de los tensores se multiplican entre si. Es decir, se tiene que:\n",
    "\n",
    "$$(T \\odot U)_{i_1,...,i_n} = T_{i_1,...,i_n}U_{i_1,...,i_n}$$\n",
    "\n",
    "Este producto suele hacerse por medio del operador <tt>*</tt>."
   ]
  },
  {
   "cell_type": "code",
   "execution_count": 12,
   "id": "9e257bfd",
   "metadata": {},
   "outputs": [
    {
     "name": "stdout",
     "output_type": "stream",
     "text": [
      "tensor([0.7574, 0.6017, 0.1718])\n",
      "  o  \n",
      "tensor([1, 2, 2])\n",
      " = \n",
      "tensor([0.7574, 1.2035, 0.3436])\n"
     ]
    }
   ],
   "source": [
    "#Producto punto a punto\n",
    "had = x*y\n",
    "\n",
    "print('{}\\n  o  \\n{}\\n = \\n{}'.format(x,y, had))"
   ]
  },
  {
   "cell_type": "markdown",
   "id": "375910c3",
   "metadata": {},
   "source": [
    "### Producto externo\n",
    "\n",
    "El producto externo es importante para algunas operaciones entre vectores, pues produce una matriz cuyas entradas son productos entre los elementos de ambos vectores. En este caso, el resultado se obtiene como:\n",
    "\n",
    "$$(x \\otimes y)_{i,j} = x_i y_j $$"
   ]
  },
  {
   "cell_type": "code",
   "execution_count": 13,
   "id": "1d3fdaee",
   "metadata": {},
   "outputs": [
    {
     "name": "stdout",
     "output_type": "stream",
     "text": [
      "tensor([0.7574, 0.6017, 0.1718])\n",
      "  x  \n",
      "tensor([1, 2, 2])\n",
      " = \n",
      "tensor([[0.7574, 1.5147, 1.5147],\n",
      "        [0.6017, 1.2035, 1.2035],\n",
      "        [0.1718, 0.3436, 0.3436]])\n"
     ]
    }
   ],
   "source": [
    "#Producto externo\n",
    "outer = torch.outer(x,y)\n",
    "\n",
    "print('{}\\n  x  \\n{}\\n = \\n{}'.format(x,y, outer))"
   ]
  },
  {
   "cell_type": "markdown",
   "id": "449d50ce",
   "metadata": {},
   "source": [
    "     "
   ]
  }
 ],
 "metadata": {
  "kernelspec": {
   "display_name": "Python 3 (ipykernel)",
   "language": "python",
   "name": "python3"
  },
  "language_info": {
   "codemirror_mode": {
    "name": "ipython",
    "version": 3
   },
   "file_extension": ".py",
   "mimetype": "text/x-python",
   "name": "python",
   "nbconvert_exporter": "python",
   "pygments_lexer": "ipython3",
   "version": "3.10.12"
  }
 },
 "nbformat": 4,
 "nbformat_minor": 5
}
