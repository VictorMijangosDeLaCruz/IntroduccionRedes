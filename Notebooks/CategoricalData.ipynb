{
 "cells": [
  {
   "cell_type": "markdown",
   "id": "2637c9bd",
   "metadata": {},
   "source": [
    "# Manejo de datos categóricos\n",
    "\n",
    "Los datods categóricos deben ser transformados a datos numéricos para poder tratarse por un algoritmo de aprendizaje automático como las redes neuronales. Según el tipo de datos se pueden tener diferentes formas de pasarlos a datos numéricos."
   ]
  },
  {
   "cell_type": "code",
   "execution_count": 8,
   "id": "f733eb36",
   "metadata": {},
   "outputs": [],
   "source": [
    "import torch\n",
    "import torch.nn as nn"
   ]
  },
  {
   "cell_type": "markdown",
   "id": "b21962ec",
   "metadata": {},
   "source": [
    "### Uso de diccionarios\n",
    "\n",
    "Se pueden usar diccionarios para transformar datos asignándole a cada categoría o nombre un valor numérico. Por ejemplo, en el caso de datos de sí y no, se pueden transformar a valores binarios por medio de un diccionario que asocie el sí al 1 y el no al 0.\n",
    "\n",
    "Un diccionario tambiém es útil cuando se tienen datos jerárquicos, pues permite asignarle valores según el conocimiento de quien está programando."
   ]
  },
  {
   "cell_type": "code",
   "execution_count": 9,
   "id": "76625038",
   "metadata": {},
   "outputs": [
    {
     "name": "stdout",
     "output_type": "stream",
     "text": [
      "tensor([0., 1., 1., 0.])\n"
     ]
    }
   ],
   "source": [
    "bin_idx = {'sí':1, 'no':0}\n",
    "\n",
    "or_data = ['no', 'sí','sí', 'no']\n",
    "\n",
    "bin_data = torch.Tensor([bin_idx[element] for element in or_data])\n",
    "\n",
    "print(bin_data)"
   ]
  },
  {
   "cell_type": "markdown",
   "id": "89155c86",
   "metadata": {},
   "source": [
    "Cuando se tienen valores de constantes lógicas True y False, se puede transformar a valores binarios 1 y 0 multiplicando el tensor por un 1:\n",
    "\n",
    "```python\n",
    "  1*true_false_tensor\n",
    "```"
   ]
  },
  {
   "cell_type": "code",
   "execution_count": 11,
   "id": "00e58e2c",
   "metadata": {},
   "outputs": [
    {
     "name": "stdout",
     "output_type": "stream",
     "text": [
      "tensor([ True, False,  True,  True])\n",
      "tensor([1, 0, 1, 1])\n"
     ]
    }
   ],
   "source": [
    "log_data = torch.tensor([True, False, True, True])\n",
    "\n",
    "print(log_data)\n",
    "\n",
    "print(1*log_data)"
   ]
  },
  {
   "cell_type": "markdown",
   "id": "2165e74b",
   "metadata": {},
   "source": [
    "### Categorías arbitrarias\n",
    "\n",
    "Cuando las categorías son arbitrarias, generalmente se representan como vectores one-hot. Para esto, se geenera un índice arbitrario de las categorías; es decir, se asigna un entero a cada categorías."
   ]
  },
  {
   "cell_type": "code",
   "execution_count": 12,
   "id": "99fae911",
   "metadata": {},
   "outputs": [],
   "source": [
    "def cat2int(cat_data):\n",
    "    labels = {}\n",
    "    num_data = []\n",
    "    for element in cat_data:\n",
    "        if len(labels) == 0:\n",
    "            labels[element] = 0\n",
    "        else:\n",
    "            if element not in labels.keys():\n",
    "                labels[element] = len(labels)\n",
    "        num_data.append(labels[element])\n",
    "                \n",
    "    return torch.tensor(num_data), labels"
   ]
  },
  {
   "cell_type": "code",
   "execution_count": 13,
   "id": "5c142644",
   "metadata": {},
   "outputs": [
    {
     "name": "stdout",
     "output_type": "stream",
     "text": [
      "{'azul': 0, 'verde': 1, 'rojo': 2}\n",
      "tensor([0, 1, 1, 2])\n"
     ]
    }
   ],
   "source": [
    "CategData = ['azul', 'verde', 'verde', 'rojo']\n",
    "\n",
    "data, idx = cat2int(CategData)\n",
    "print(idx)\n",
    "print(data)"
   ]
  },
  {
   "cell_type": "markdown",
   "id": "714b8a1c",
   "metadata": {},
   "source": [
    "Una vez que se obtiene este índice, se puede usar la función <tt>one_hot</tt> de Pytorch. Lo que hace es regresar la matriz en donde cada renglón tiene un 1 en el índice indicado."
   ]
  },
  {
   "cell_type": "code",
   "execution_count": 15,
   "id": "8692f387",
   "metadata": {},
   "outputs": [
    {
     "name": "stdout",
     "output_type": "stream",
     "text": [
      "tensor([[1, 0, 0],\n",
      "        [0, 1, 0],\n",
      "        [0, 1, 0],\n",
      "        [0, 0, 1]])\n"
     ]
    }
   ],
   "source": [
    "t = nn.functional.one_hot(data, num_classes=3)\n",
    "print(t)"
   ]
  },
  {
   "cell_type": "markdown",
   "id": "5d05422c",
   "metadata": {},
   "source": [
    "## Agrupamiento de datos\n",
    "\n",
    "Para agrupar los datos (binning) se puede utilizar la función <tt>cut</tt> de pandas. Esta función generará intervalos a partir de decirle cuántos grupos (bins) queremos. De esta forma, indicará en cada caso en que intervalo cae el valor original."
   ]
  },
  {
   "cell_type": "code",
   "execution_count": 18,
   "id": "cee2085e",
   "metadata": {},
   "outputs": [
    {
     "data": {
      "text/plain": [
       "['bajo', 'bajo', 'bajo', 'medio', 'medio', ..., 'alto', 'bajo', 'medio', 'alto', 'bajo']\n",
       "Length: 16\n",
       "Categories (3, object): ['bajo' < 'medio' < 'alto']"
      ]
     },
     "execution_count": 18,
     "metadata": {},
     "output_type": "execute_result"
    }
   ],
   "source": [
    "import pandas as pd\n",
    "\n",
    "x = [0,2,3,4,6,8,2,4,7,2,5,8,2,5,9,3]\n",
    "\n",
    "x_out = pd.cut(x, bins=3, labels=['bajo','medio','alto'])\n",
    "\n",
    "x_out"
   ]
  },
  {
   "cell_type": "code",
   "execution_count": null,
   "id": "cd67435b",
   "metadata": {},
   "outputs": [],
   "source": []
  }
 ],
 "metadata": {
  "kernelspec": {
   "display_name": "Python 3 (ipykernel)",
   "language": "python",
   "name": "python3"
  },
  "language_info": {
   "codemirror_mode": {
    "name": "ipython",
    "version": 3
   },
   "file_extension": ".py",
   "mimetype": "text/x-python",
   "name": "python",
   "nbconvert_exporter": "python",
   "pygments_lexer": "ipython3",
   "version": "3.10.9"
  }
 },
 "nbformat": 4,
 "nbformat_minor": 5
}
