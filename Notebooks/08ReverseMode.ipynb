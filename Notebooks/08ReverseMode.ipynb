{
 "cells": [
  {
   "cell_type": "markdown",
   "id": "351410be-b74b-4b8b-a1fa-f7425dc9fbe6",
   "metadata": {},
   "source": [
    "# Modo reverse en diferenciación automática\n",
    "\n",
    "El modo reverse, en contraste con el modo forward, obtiene las derivadas de una función compleja a partir de recorrer un grafo computacional en retroceso; i.e., desde las salidas de la función hacia las entradas. De esta forma, se calcula la derivada de las funciones de salida y se usan esas derivadas para las funciones en los nodos anteriores en el grafo usando la regla de la cadena para obtener las nuevas derivadas. \n",
    "\n",
    "Así, si $f_i$ es la función en un nodo del cual queremos obtener su derivada y si $f_{i+1}$ es la función de un nodo superiro, entonces la derivada en el modo reverse se obtiene como:\n",
    "\n",
    "$$\\frac{\\partial f_{i+1}}{\\partial x} = \\frac{\\partial f_{i+1}}{\\partial f_i} \\frac{\\partial f_i}{x}$$\n",
    "\n",
    "De esta forma, la derivación se propaga hacia atrás, generando una traza derivativa que para obtener las derivadas parciales sobre las entradas de la función. En este caso, el modo reverse obtiene el vector gradiente $\\nabla_x f_i$ para una de las salidas de la función; es decir, cada vez que corremos el modo reverse para obtener la diferenciación, obtenemos las derivadas parciales sobre todas las variables de entrada, pero sólo para una de las salidas.\n",
    "\n",
    "El modo reverse almacena las derivadas de las funciones de los nodos del grafo computacional a partir de variables específicas. En este caso, la variable de salida se le asigna un valor de 1, si es esa la salida sobre la que queremos derivar; de otra forma, le asignamos el valor 0 a las salidas que no nos interesen en ese momento. De igual forma, se puede iniciar con un vector distinto a los vectores base; en este caso, interpretamos el resultado del modo reverse como el producto de la matriz Jacobiana $J_f$ transpuesta por el vector.\n",
    "\n",
    "## Implementación del modo reverse\n",
    "\n",
    "```python\n",
    "class Operation:\n",
    "    def __call__(self, x):\n",
    "        ...\n",
    "        return #operación sobre x\n",
    "\n",
    "    def backward(self, consumer_grad):\n",
    "        # 1. Calcula el gradiente del nodo actual utilizando el gradiente del consumer\n",
    "        # 2. Envía el gradiente actual hacia atrás al nodo de entrada\n",
    "```\n",
    "\n",
    "El gradiente se obtendrá en las entradas, al inicio de la gráfica computacional en los valores <tt>x.grad</tt>.\n",
    "\n",
    "## Ejemplo\n",
    "\n",
    "Para ejemplificar el uso del modo forward, generamos nodos para las funciones de coseno, potencia y suma. En cada caso, definimos la derivada en el nodo con base en el nodo padre o nodo de entrada."
   ]
  },
  {
   "cell_type": "code",
   "execution_count": 1,
   "id": "86a21ed1-223c-4709-8749-0aaf1703a2f2",
   "metadata": {},
   "outputs": [],
   "source": [
    "import numpy as np\n",
    "\n",
    "class Cos:\n",
    "    def __init__(self, n=2):\n",
    "        self.n = n\n",
    "        self.grad = None\n",
    "\n",
    "    def __call__(self, x):\n",
    "        self.value = np.cos(self.n*x.value)\n",
    "        self.parent = x\n",
    "        return self\n",
    "\n",
    "    def __str__(self):\n",
    "        return str(self.value)\n",
    "\n",
    "    def backward(self, grad=1):\n",
    "        self.grad = -self.n*np.sin(self.n*self.parent.value)*grad\n",
    "        self.parent.backward(grad=self.grad)\n",
    "\n",
    "class Pow:\n",
    "    def __init__(self, p=2):\n",
    "        self.pow = p\n",
    "        self.grad = None\n",
    "\n",
    "    def __call__(self, x):\n",
    "        self.value = x.value**self.pow\n",
    "        self.parent = x\n",
    "        return self\n",
    "\n",
    "    def __str__(self):\n",
    "        return str(self.value)\n",
    "\n",
    "    def backward(self, grad=1):\n",
    "        self.grad = self.pow*(self.parent.value**(self.pow-1)) * grad\n",
    "        self.parent.backward(grad=self.grad)\n",
    "\n",
    "class Sum:\n",
    "    def __init__(self):\n",
    "        self.grad = None\n",
    "\n",
    "    def __call__(self, x, y):\n",
    "        self.value = x.value + y.value\n",
    "        self.parentA = x\n",
    "        self.parentB = y\n",
    "        return self\n",
    "\n",
    "    def __str__(self):\n",
    "        return str(self.value)\n",
    "\n",
    "    def backward(self, grad=1):\n",
    "        self.grad = grad\n",
    "        self.parentA.backward(grad=self.grad)\n",
    "        self.parentB.backward(grad=self.grad)\n",
    "\n",
    "class Node:\n",
    "    def __init__(self, value):\n",
    "        self.value = value\n",
    "        self.grad = None\n",
    "\n",
    "    def __str__(self):\n",
    "        return str(self.value)\n",
    "        \n",
    "    def backward(self, grad=1):\n",
    "        self.grad = grad"
   ]
  },
  {
   "cell_type": "markdown",
   "id": "d84749fd-f68c-429d-93a1-23c92781190f",
   "metadata": {},
   "source": [
    "Para ejemplificar el modo reverse podemos usar un sólo nodo para la operación coseno:\n",
    "\n",
    "$$f(x) = cos(2x)$$"
   ]
  },
  {
   "cell_type": "code",
   "execution_count": 2,
   "id": "1ab25865-6bdc-472e-bfaa-50577dd7a1c4",
   "metadata": {},
   "outputs": [
    {
     "name": "stdout",
     "output_type": "stream",
     "text": [
      "0.960170286650366\n"
     ]
    }
   ],
   "source": [
    "#Nodo de entrada x\n",
    "x = Node(3)\n",
    "#Nodo coseno\n",
    "cos = Cos(n=2)\n",
    "\n",
    "#Construcción de la gráfica\n",
    "result = cos(x)\n",
    "print(result)"
   ]
  },
  {
   "cell_type": "markdown",
   "id": "e5b42cd3-8835-4e30-bee3-b11971d20e99",
   "metadata": {},
   "source": [
    "Ahor podemos obtener el gradiente de la función con el método de reverse aplicando el backward. Como se puede observar, el gradiente se guarda en el nodo de entrada $x$, no el de salida como en el modo forward."
   ]
  },
  {
   "cell_type": "code",
   "execution_count": 3,
   "id": "832e24fa-a5ba-4508-b494-b1f9429a2133",
   "metadata": {},
   "outputs": [
    {
     "name": "stdout",
     "output_type": "stream",
     "text": [
      "Gradiente 0.5588309963978517\n"
     ]
    }
   ],
   "source": [
    "result.backward(grad=1)\n",
    "print('Gradiente {}'.format(x.grad))"
   ]
  },
  {
   "cell_type": "markdown",
   "id": "fcb7c819-23c0-4089-91a8-c6d14c724ad3",
   "metadata": {},
   "source": [
    "Ahora podemos explorar una función más complejada dada por la fórmula:\n",
    "\n",
    "$$f(x,y) = \\cos^2(x) + y^2$$"
   ]
  },
  {
   "cell_type": "code",
   "execution_count": 4,
   "id": "ca27eca5-3d07-4d06-9eab-4750a0fa6a15",
   "metadata": {},
   "outputs": [
    {
     "name": "stdout",
     "output_type": "stream",
     "text": [
      "4.921926979366246\n"
     ]
    }
   ],
   "source": [
    "#Nodo entrada y\n",
    "y = Node(2)\n",
    "#Nodo de potencia\n",
    "pow = Pow(p=2)\n",
    "#Nodo de potencia\n",
    "pow2 = Pow(p=2)\n",
    "#Nodo de suma\n",
    "sum = Sum()\n",
    "\n",
    "#Construcción de la gráfica dinámica\n",
    "result = sum(pow(cos(x)), pow2(y))\n",
    "print(result)"
   ]
  },
  {
   "cell_type": "markdown",
   "id": "7aecb93a-a850-4c40-8765-ee2153840961",
   "metadata": {},
   "source": [
    "Ahora podemos aplicar el método backward para obtener el gradiente con modo reverse. En este caso, el flujo del gradientes es de la salida a la entrada. Como se puede observar, a diferencia del modo forward, el gradiente final se almacena en los nodos de entrada $x$ e $y$. Es decir, aquí obtenemos el vector gradiente de la función. La suma de las derivadas parciales se tiene que realizar aparte."
   ]
  },
  {
   "cell_type": "code",
   "execution_count": 5,
   "id": "37f5e506-3ce5-4858-aa06-f693bf518524",
   "metadata": {},
   "outputs": [
    {
     "name": "stdout",
     "output_type": "stream",
     "text": [
      "Gradiente [1.0731458360008699 4]\n",
      "Suma de derivadas: 5.07314583600087\n"
     ]
    }
   ],
   "source": [
    "result.backward(grad=1)\n",
    "print('Gradiente [{} {}]'.format(x.grad, y.grad))\n",
    "print('Suma de derivadas: {}'.format(x.grad + y.grad))"
   ]
  },
  {
   "cell_type": "markdown",
   "id": "f34ac721-de17-43d3-9750-2c643558b5cd",
   "metadata": {},
   "source": [
    "   "
   ]
  }
 ],
 "metadata": {
  "kernelspec": {
   "display_name": "Python 3 (ipykernel)",
   "language": "python",
   "name": "python3"
  },
  "language_info": {
   "codemirror_mode": {
    "name": "ipython",
    "version": 3
   },
   "file_extension": ".py",
   "mimetype": "text/x-python",
   "name": "python",
   "nbconvert_exporter": "python",
   "pygments_lexer": "ipython3",
   "version": "3.11.7"
  }
 },
 "nbformat": 4,
 "nbformat_minor": 5
}
