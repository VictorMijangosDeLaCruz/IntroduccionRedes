{
 "cells": [
  {
   "cell_type": "markdown",
   "id": "351410be-b74b-4b8b-a1fa-f7425dc9fbe6",
   "metadata": {},
   "source": [
    "# Modo forward en diferenciación automática\n",
    "\n",
    "El modo forward en la diferenciación automática, como su nombre lo dice, se enfoca en encontrar la derivada de una función representada por un grafo computacional haciendo cómputos en avance. En este sentido, el grafo computacional alamcena una traza tangente, donde mientras se computan los valores de la función, se obtienen también los valores de las diferentes derivadas. Posteriormente, las derivadas de nodos superiores en el grafo se computan utilizando la regla de la cadena. \n",
    "\n",
    "De manera general, el modo forward computa una derivada en un nodo $f_i$ a partir de un nodo precedente $f_{i-1}$ por medio de la regla de la cadena de la siguiente forma:\n",
    "\n",
    "$$\\frac{\\partial f_i}{\\partial x} = \\frac{\\partial f_i}{f_{i-1}}\\frac{\\partial f_{i-1}}{\\partial x}$$\n",
    "\n",
    "De esta forma, la derivada se propaga hacia adelante, en avance, hasta obtener la derivada de las salidas de la función. En un solo paso, se pueden obtener las derivadas parciales para todas las salidas sobre una de las entradas.\n",
    "\n",
    "El modo forward se inicializa asignando un 1 a una de las variables de entrada. O de forma más general, se inicializa asignando un vector de entrada (de la misma dimensión que la entrada de la función), que generalmente es un vector base $e_j$, de tal forma que la derivada parcial se estime sobre la $j$-ésima entrada $\\frac{\\partial f}{\\partial x_j}$. Cuando se inicializa con un vector que no es base, el modo forward se interpreta como el producto entre la matriz Jacobiana $J_f$ y el vector de entrada.\n",
    "\n",
    "## Implementación del modo forward\n",
    "\n",
    "```python\n",
    "class Operation:\n",
    "    def __call__(self, x):\n",
    "        ...\n",
    "        return #operación sobre x\n",
    "\n",
    "    def forward(self):\n",
    "        # 1. Calcula el gradiente del nodo padre\n",
    "        # 2. Con el gradiente del nodo padre se obtiene el gradiente del nodo actual\n",
    "\n",
    "        return # Gradiente del nodo actual\n",
    "```\n",
    "\n",
    "El gradiente se obtendrá al final en cada una de las salidas de la función como gráfica computacional, en <tt>f.grad</tt>\n",
    "\n",
    "## Ejemplo\n",
    "\n",
    "Para ejemplificar el uso del modo forward, generamos nodos para las funciones de coseno, potencia y suma. En cada caso, definimos la derivada en el nodo con base en el nodo padre o nodo de entrada."
   ]
  },
  {
   "cell_type": "code",
   "execution_count": 1,
   "id": "86a21ed1-223c-4709-8749-0aaf1703a2f2",
   "metadata": {},
   "outputs": [],
   "source": [
    "import numpy as np\n",
    "\n",
    "class Cos:\n",
    "    def __init__(self, n=2):\n",
    "        self.n = n\n",
    "        self.grad = None\n",
    "\n",
    "    def __call__(self, x):\n",
    "        self.value = np.cos(self.n*x.value)\n",
    "        self.parent = x\n",
    "        \n",
    "        return self\n",
    "\n",
    "    def __str__(self):\n",
    "        return str(self.value)\n",
    "\n",
    "    def forward(self):\n",
    "        self.parent.forward()\n",
    "        node_grad = -self.n*np.sin(self.n*self.parent.value)\n",
    "        self.grad = node_grad*self.parent.grad\n",
    "        \n",
    "        return self.grad\n",
    "\n",
    "class Pow:\n",
    "    def __init__(self, p=2):\n",
    "        self.pow = p\n",
    "        self.grad = None\n",
    "\n",
    "    def __call__(self, x):\n",
    "        self.value = x.value**self.pow\n",
    "        self.parent = x\n",
    "        return self\n",
    "\n",
    "    def __str__(self):\n",
    "        return str(self.value)\n",
    "\n",
    "    def forward(self):\n",
    "        self.parent.forward()\n",
    "        node_grad = self.pow*(self.parent.value**(self.pow-1))\n",
    "        self.grad = node_grad*self.parent.grad\n",
    "        \n",
    "        return self.grad\n",
    "\n",
    "class Sum:\n",
    "    def __init__(self):\n",
    "        self.grad = None\n",
    "\n",
    "    def __call__(self, x, y):\n",
    "        self.value = x.value + y.value\n",
    "        self.parentA = x\n",
    "        self.parentB = y\n",
    "        \n",
    "        return self\n",
    "\n",
    "    def __str__(self):\n",
    "        return str(self.value)\n",
    "\n",
    "    def forward(self):\n",
    "        self.parentA.forward()\n",
    "        self.parentB.forward()\n",
    "        self.grad = self.parentA.grad + self.parentB.grad\n",
    "        \n",
    "        return self.grad\n",
    "\n",
    "class Node:\n",
    "    def __init__(self, value, grad=1):\n",
    "        self.value = value\n",
    "        self.grad = grad\n",
    "\n",
    "    def __str__(self):\n",
    "        return str(self.value)\n",
    "        \n",
    "    def forward(self):\n",
    "        self.grad = self.grad"
   ]
  },
  {
   "cell_type": "markdown",
   "id": "d84749fd-f68c-429d-93a1-23c92781190f",
   "metadata": {},
   "source": [
    "A partir de los nodos definidos, podemos definir funciones y obtener sus derivadas. Por ejemplo, hacemos una función sencilla, con un sólo nodo, que computa la función:\n",
    "\n",
    "$$f(x) = \\cos(2x)$$"
   ]
  },
  {
   "cell_type": "code",
   "execution_count": 2,
   "id": "1ab25865-6bdc-472e-bfaa-50577dd7a1c4",
   "metadata": {},
   "outputs": [
    {
     "name": "stdout",
     "output_type": "stream",
     "text": [
      "0.960170286650366\n"
     ]
    }
   ],
   "source": [
    "#Nodo de entrada\n",
    "x = Node(3, grad=1)\n",
    "#Nodo de operación coseno\n",
    "cos = Cos(n=2)\n",
    "\n",
    "#Construcción del nodo\n",
    "result = cos(x)\n",
    "print(result)"
   ]
  },
  {
   "cell_type": "markdown",
   "id": "6eb19bad-eb51-49ab-84a0-af727ee0b739",
   "metadata": {},
   "source": [
    "Podeos aplicar, entonces, la traza derivativa para obtener el gradiente aplicando el método forward. Como se puede observar, el gradiente final está en el nodo de salida."
   ]
  },
  {
   "cell_type": "code",
   "execution_count": 3,
   "id": "832e24fa-a5ba-4508-b494-b1f9429a2133",
   "metadata": {},
   "outputs": [
    {
     "name": "stdout",
     "output_type": "stream",
     "text": [
      "Gradiente 0.5588309963978517\n"
     ]
    }
   ],
   "source": [
    "result.forward()\n",
    "print('Gradiente {}'.format(result.grad))"
   ]
  },
  {
   "cell_type": "markdown",
   "id": "c646464d-7d6c-422d-a1e7-7f01cc606d4e",
   "metadata": {},
   "source": [
    "Podemos construir una función más compleja para ver cómo trabaja el modo forward:\n",
    "\n",
    "$$f(x,y) = \\cos^2(x) + y^2$$\n",
    "\n",
    "Para esto, definimos un nodo con para la variable $y$, así como los nodos para la potencia al cuadrado y la suma. Nótese que debemos definir dos nodos de potencia, pues se aplican con resultados diferentes en la gráfica dinámica."
   ]
  },
  {
   "cell_type": "code",
   "execution_count": 4,
   "id": "ca27eca5-3d07-4d06-9eab-4750a0fa6a15",
   "metadata": {},
   "outputs": [
    {
     "name": "stdout",
     "output_type": "stream",
     "text": [
      "4.921926979366246\n"
     ]
    }
   ],
   "source": [
    "#Nodo de entrada y\n",
    "y = Node(2, grad=1)\n",
    "#Potencia nodo 1\n",
    "pow = Pow(p=2)\n",
    "#Potencia nodo 2\n",
    "pow2 = Pow(p=2)\n",
    "#Nodo de suma\n",
    "sum = Sum()\n",
    "\n",
    "#Construcción de la gráfica dinámica\n",
    "result = sum(pow(cos(x)), pow2(y))\n",
    "print(result)"
   ]
  },
  {
   "cell_type": "markdown",
   "id": "777a2cee-c03b-41b2-af4b-597316622342",
   "metadata": {},
   "source": [
    "Finalmente, podemos obtener el gradiente de la función. En este caso, el modo forward obtiene la suma de las derivadas parciales $\\frac{\\partial f(x,y)}{\\partial x} + \\frac{\\partial f(x,y)}{\\partial y}$. Para obtener la derivada parcial de una sola entrada, el gradiente (parámetro <tt>grad</tt>) de la otra entrada debe ser 0."
   ]
  },
  {
   "cell_type": "code",
   "execution_count": 5,
   "id": "37f5e506-3ce5-4858-aa06-f693bf518524",
   "metadata": {},
   "outputs": [
    {
     "name": "stdout",
     "output_type": "stream",
     "text": [
      "Gradiente 5.07314583600087\n"
     ]
    }
   ],
   "source": [
    "result.forward()\n",
    "print('Gradiente {}'.format(result.grad))"
   ]
  },
  {
   "cell_type": "markdown",
   "id": "86a0b725-8b0a-4982-ae80-020ed7b1c6ed",
   "metadata": {},
   "source": [
    "   "
   ]
  }
 ],
 "metadata": {
  "kernelspec": {
   "display_name": "Python 3 (ipykernel)",
   "language": "python",
   "name": "python3"
  },
  "language_info": {
   "codemirror_mode": {
    "name": "ipython",
    "version": 3
   },
   "file_extension": ".py",
   "mimetype": "text/x-python",
   "name": "python",
   "nbconvert_exporter": "python",
   "pygments_lexer": "ipython3",
   "version": "3.11.7"
  }
 },
 "nbformat": 4,
 "nbformat_minor": 5
}
