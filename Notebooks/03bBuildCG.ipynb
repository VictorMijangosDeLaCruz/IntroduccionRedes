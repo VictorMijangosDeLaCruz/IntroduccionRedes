{
 "cells": [
  {
   "cell_type": "markdown",
   "id": "c6278c91-1dc5-40dd-9c65-d8496fdd87fb",
   "metadata": {},
   "source": [
    "# Creación de una gráfica computacional\n",
    "\n",
    "Las gráficas computacionales son gráficas dirigidas que organizan el flujo de los procesos en el cómputo de una función. De forma dinámica, los nodos de la gráfica representan los valores resultado de la realización de las unciones que cada nodo define. Así, los nodos de entrada contendrán los valores de entrada de la función.\n",
    "\n",
    "Para la creación de los nodos, definimos objetos por medio de las clases de pyhton, asignándole los atributos necesarios: 1) en primer lugar, deben contar con el valor numérico que el nodo está guardando; 2) asignamos un atributo de gradiente <tt>grad</tt> que nos permitirá almacenar el valor del gradiente en ese nodo; y 3) agregamos otros parámetros necesarios para la función. En primer lugar, definimos una <b>super clase</b> <tt>Node</tt> que definira propiedades básicas de los nodos de entrada, la forma de llamarlos y de imprimirlos.\n",
    "Posteriormente, definimos la clase para definir nodos de entrada, que sólo contendrá los valores."
   ]
  },
  {
   "cell_type": "code",
   "execution_count": 1,
   "id": "2effd813-eca1-432e-943e-4d95ba2d438b",
   "metadata": {},
   "outputs": [],
   "source": [
    "import numpy as np\n",
    "\n",
    "class Node:\n",
    "    # Super clase para nodos\n",
    "    def __init__(self, require_grad=False, grad=None):\n",
    "        self.require_grad = require_grad\n",
    "        if require_grad:\n",
    "            self.grad = grad\n",
    "\n",
    "    def __call__(self, *kwargs):\n",
    "        return self.forward(*kwargs)\n",
    "\n",
    "    def __str__(self):\n",
    "        return str(self.value)\n",
    "\n",
    "class Variable(Node):\n",
    "    # Nodos de entrada\n",
    "    def __init__(self, value, array=False):\n",
    "        super().__init__(require_grad=True)\n",
    "        if array:\n",
    "                self.value = np.array(value)\n",
    "        else:\n",
    "                self.value = value"
   ]
  },
  {
   "cell_type": "markdown",
   "id": "fc43d740-7c27-49b1-9332-af04442bbfa7",
   "metadata": {},
   "source": [
    "Este tipos de nodos sólo guardará los valores que asignemos de entrada como una clase especial <tt>Node</tt>. Este nodo puede ser un arreglo de numpy o un número. Estos valores serán la entrada de nuestras gráficas computacionales."
   ]
  },
  {
   "cell_type": "code",
   "execution_count": 2,
   "id": "177668ad-2d90-46fe-a992-8f2cdbfb5752",
   "metadata": {},
   "outputs": [
    {
     "name": "stdout",
     "output_type": "stream",
     "text": [
      "3 [2 4]\n"
     ]
    }
   ],
   "source": [
    "x = Variable(3)\n",
    "y = Variable([2,4], array=True)\n",
    "\n",
    "print(x, y)"
   ]
  },
  {
   "cell_type": "markdown",
   "id": "0c6f0ac8-ff92-4725-bff2-5b4cdbf87535",
   "metadata": {},
   "source": [
    "## Nodos de funciones\n",
    "\n",
    "Para definir nodos de la gráfica computacional que definan funciones, la clase debe tener la asignación del valor, así como la del gradiente. Sin embargo, el valor se asigna al nodo hasta que la función es aplicada a un valor específico. Estos nodos tienen un valor numérico que se asigna cuando se corre con una entrada fija. Asimismo, cada función tiene un padre, que es el nodo previo. De esta forma, se puede definir la estructura de gráfica.\n",
    "\n",
    "La primera función que definimos es la de coseno."
   ]
  },
  {
   "cell_type": "code",
   "execution_count": 3,
   "id": "4e7a8a82-9541-4b1b-8a7f-83569305c311",
   "metadata": {},
   "outputs": [],
   "source": [
    "class Cos(Node):\n",
    "    # Función coseno\n",
    "    def __init__(self, n=2):\n",
    "        super().__init__(require_grad=True)\n",
    "        self.n = n\n",
    "\n",
    "    def forward(self, x):\n",
    "        self.value = np.cos(self.n*x.value)\n",
    "        self.parent = x\n",
    "\n",
    "        return self"
   ]
  },
  {
   "cell_type": "markdown",
   "id": "943be88c-67c9-4726-9fc0-91cb9f92b33d",
   "metadata": {},
   "source": [
    "También definimos una función de potencia cuyo parámetro $p$ indica la potencia a la que se va a elevar el valor."
   ]
  },
  {
   "cell_type": "code",
   "execution_count": 4,
   "id": "7b6f80c1-fd0d-49cb-9082-11a7463e39c7",
   "metadata": {},
   "outputs": [],
   "source": [
    "class Pow(Node):\n",
    "    # Función potencia\n",
    "    def __init__(self, p=2):\n",
    "        super().__init__(require_grad=True)\n",
    "        self.pow = p\n",
    "\n",
    "    def forward(self, x):\n",
    "        self.value = x.value**self.pow\n",
    "        self.parent = x\n",
    "\n",
    "        return self"
   ]
  },
  {
   "cell_type": "markdown",
   "id": "828024be-a865-4f05-80cf-4168743b2168",
   "metadata": {},
   "source": [
    "Finalmente, definimos la función de suma, esta es una función binaria que tomará dos entradas, dos nodos previos que se sumarán entre sí."
   ]
  },
  {
   "cell_type": "code",
   "execution_count": 5,
   "id": "da26708d-32e6-4299-8e9d-fe06a529d33e",
   "metadata": {},
   "outputs": [],
   "source": [
    "class Sum(Node):\n",
    "    # Funció suma\n",
    "    def __init__(self):\n",
    "        super().__init__(require_grad=True)\n",
    "\n",
    "    def forward(self, x, y):\n",
    "        self.value = x.value + y.value\n",
    "        self.parentA = x\n",
    "        self.parentB = y\n",
    "\n",
    "        return self"
   ]
  },
  {
   "cell_type": "markdown",
   "id": "59414e6f-e2aa-42b5-8de1-41f5b5cd66ea",
   "metadata": {},
   "source": [
    "### Uso de los nodos\n",
    "\n",
    "Para generar los nodos de la gráfica computacional asignamos las clases a variables que funcionarán como las funciones. En este sentido, sólo definimos los nodos, pero no las conexiones entre estos."
   ]
  },
  {
   "cell_type": "code",
   "execution_count": 6,
   "id": "b27f4b5a-ce8e-496c-a78f-5d454eb9f3eb",
   "metadata": {},
   "outputs": [],
   "source": [
    "cos = Cos(n=1)\n",
    "pow = Pow(p=2)\n",
    "cos2 = Cos(n=2)\n",
    "pow4 = Pow(p=4)\n",
    "sum = Sum()"
   ]
  },
  {
   "cell_type": "markdown",
   "id": "0190a25e-7933-49d1-aa2b-34871b9a92ec",
   "metadata": {},
   "source": [
    "Para generar las conexiones de la gráfica computacional, necesitamos aplicar los nodos a valores específicos. Dado que ningún nodo de función tiene un valor asignado hasta que se aplica a un valor numérico específico, el primer nodo debe ser siempre uno de entrada. El nodo hijo será la función que se aplique, el valor resultante de aplicar la función al nodo previo. Entonces la aplicación de las funciones en los nodos creará las relaciones de parentesco en la gráfica computacional.\n",
    "\n",
    "Por ejemplo, en el siguiente ejemplo usamos los nodos de funciones anteriormente definidos para crear una gráfica computacional que responda a la función de la forma:\n",
    "\n",
    "$$f(x) = cos^4\\big(2cos^2(x)\\big) + cos^2(x)$$\n",
    "\n",
    "La estructura de la gráfica se define en términos de la aplicación de las funciones."
   ]
  },
  {
   "cell_type": "code",
   "execution_count": 7,
   "id": "4aa4c78f-2738-41b6-9d60-90ed19848f6c",
   "metadata": {},
   "outputs": [
    {
     "name": "stdout",
     "output_type": "stream",
     "text": [
      "-0.9899924966004454\n",
      "0.9800851433251829\n",
      "-0.37960931045656354\n",
      "0.020765740488709425\n",
      "1.0008508838138923\n"
     ]
    }
   ],
   "source": [
    "n1 = cos(x)\n",
    "print(n1)\n",
    "\n",
    "n2 = pow(n1)\n",
    "print(n2)\n",
    "\n",
    "n3 = cos2(n2)\n",
    "print(n3)\n",
    "\n",
    "n4 = pow4(n3)\n",
    "print(n4)\n",
    "\n",
    "n5 = sum(n4,n2)\n",
    "print(n5)"
   ]
  },
  {
   "cell_type": "markdown",
   "id": "bcbc6ee7-befc-44f8-aadb-be927d36cce4",
   "metadata": {},
   "source": [
    "Podemos visualizar la estructura de la gráfica al definir una función recursiva que que tome el nodo de resultado (el último nodo en aplicarse) y recorra la gráfica creada."
   ]
  },
  {
   "cell_type": "code",
   "execution_count": 18,
   "id": "9cc4a2a2-4ae3-476b-ae7b-8c8adb46213d",
   "metadata": {},
   "outputs": [],
   "source": [
    "def print_graph(n, sep='>'):\n",
    "    if type(n) == Variable:\n",
    "        print(sep, n)\n",
    "    elif type(n) == Sum:\n",
    "        print(sep, n)\n",
    "        print_graph(n.parentA, sep='\\t'+sep)\n",
    "        print_graph(n.parentB, sep='\\t'+sep)\n",
    "    else:\n",
    "        print(sep, n)\n",
    "        print_graph(n.parent, sep='\\t'+sep)"
   ]
  },
  {
   "cell_type": "code",
   "execution_count": 19,
   "id": "816234b7-3aec-4213-bed0-78805bb1678d",
   "metadata": {},
   "outputs": [
    {
     "name": "stdout",
     "output_type": "stream",
     "text": [
      "> 1.0008508838138923\n",
      "\t> 0.020765740488709425\n",
      "\t\t> -0.37960931045656354\n",
      "\t\t\t> 0.9800851433251829\n",
      "\t\t\t\t> -0.9899924966004454\n",
      "\t\t\t\t\t> 3\n",
      "\t> 0.9800851433251829\n",
      "\t\t> -0.9899924966004454\n",
      "\t\t\t> 3\n"
     ]
    }
   ],
   "source": [
    "print_graph(n5)"
   ]
  },
  {
   "cell_type": "markdown",
   "id": "bcbbb8f9-3d9f-42dd-b3d4-2fcb8c594604",
   "metadata": {},
   "source": [
    "También podemos simplificar la creación de la gráfica si esta es secuencial; es decir, que se aplica una función detrás de otra. Para esto definimos una nueva clase <tt>Sequential</tt> que toma un conjunto de nodos asumiendo que cada función en el nodo se aplica de forma previa al nodo siguiente. De esta forma se puede obtener una gráfica simple."
   ]
  },
  {
   "cell_type": "code",
   "execution_count": 10,
   "id": "eb6d291c-a55b-4e36-8aad-104c37e3e2bf",
   "metadata": {},
   "outputs": [],
   "source": [
    "class Sequential(Node):\n",
    "    def __init__(self, *argv):\n",
    "        super().__init__(require_grad=True)\n",
    "        self.nodes = argv\n",
    "\n",
    "    def forward(self, x):\n",
    "        self.value = x\n",
    "        for f in self.nodes:\n",
    "            self.value = f(self.value)\n",
    "        return self\n",
    "        \n",
    "    def print_graph(self):\n",
    "        print_graph(self.nodes[-1])"
   ]
  },
  {
   "cell_type": "markdown",
   "id": "9fd41c5a-0793-4fce-a112-5fab2ef05957",
   "metadata": {},
   "source": [
    "Podemos usar esta clase para construir una gráfica que, en este ejemplo, compute la función:\n",
    "\n",
    "$$f(x) = cos^5\\big(5cos^2(2x)\\big)$$ \n",
    "\n",
    "También podemos visualizar esta gráfica, que como se puede ver, es secuencial."
   ]
  },
  {
   "cell_type": "code",
   "execution_count": 11,
   "id": "550099d4-9abd-43ab-a4c9-adc194c13762",
   "metadata": {},
   "outputs": [
    {
     "name": "stdout",
     "output_type": "stream",
     "text": [
      "[-0.04415795  0.97232642]\n",
      "> [-0.04415795  0.97232642]\n",
      "\t> [-0.53579886  0.99440298]\n",
      "\t\t> [0.42724998 0.02117026]\n",
      "\t\t\t> [-0.65364362 -0.14550003]\n",
      "\t\t\t\t> [2 4]\n"
     ]
    }
   ],
   "source": [
    "f = Sequential(Cos(n=2), Pow(p=2), Cos(n=5), Pow(p=5))\n",
    "\n",
    "result = f(y)\n",
    "print(result)\n",
    "result.print_graph()"
   ]
  },
  {
   "cell_type": "markdown",
   "id": "677e2e4e-af0e-47b9-be53-b0765cbc6c72",
   "metadata": {},
   "source": [
    "    "
   ]
  }
 ],
 "metadata": {
  "kernelspec": {
   "display_name": "Python 3 (ipykernel)",
   "language": "python",
   "name": "python3"
  },
  "language_info": {
   "codemirror_mode": {
    "name": "ipython",
    "version": 3
   },
   "file_extension": ".py",
   "mimetype": "text/x-python",
   "name": "python",
   "nbconvert_exporter": "python",
   "pygments_lexer": "ipython3",
   "version": "3.11.7"
  }
 },
 "nbformat": 4,
 "nbformat_minor": 5
}
